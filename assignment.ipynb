{
 "cells": [
  {
   "cell_type": "code",
   "execution_count": null,
   "metadata": {},
   "outputs": [],
   "source": [
    "#ASSIGNMENT 1\n",
    "hat = [1,2,3,4,5]\n",
    "\n",
    "new_middle_number = int(input('Enter a number:'))#Here the user is asked to enter the new value to be in the middle\n",
    "hat[2] = new_middle_number # The middle number is replaced \n",
    "print(hat)\n",
    "\n",
    "del(hat[4]) #Here the last the number in the list is deleted\n",
    "print(hat)\n",
    "\n",
    "print(len(hat))#The lenght of the list is displayed\n"
   ]
  },
  {
   "cell_type": "code",
   "execution_count": null,
   "metadata": {},
   "outputs": [],
   "source": [
    "#ASSIGNMENT 2\n",
    "beatles = []\n",
    "#The names are going to be added to the beatles list\n",
    "beatles.append('John Lennon')\n",
    "beatles.append('Paul McCartney')\n",
    "beatles.append('George Harrison')\n",
    "\n",
    "print(beatles)\n",
    "\n",
    "for i in range(2):\n",
    "    names = input('Enter the names (Stu Stucliffe and Pete Best):')\n",
    "    beatles.append(names) # Here the names entered by the user are added to the list\n",
    "\n",
    "print(beatles)\n",
    "del(beatles[4]) # The names in index 4 will be deleted\n",
    "del(beatles[3])\n",
    "\n",
    "beatles.insert(0,'Ringo Starr') # The name will be inserted index 0\n",
    "print(beatles)\n"
   ]
  },
  {
   "cell_type": "code",
   "execution_count": null,
   "metadata": {},
   "outputs": [],
   "source": [
    "\n",
    "#ASSIGNMENT 3\n",
    "my_numbers = [1,2,2,3,4,4,6,7,7,8,8]\n",
    "new_numbers = list(set(my_numbers)) #The set function deletes any duplicates and the list function turns the nem numbers into a list \n",
    "print(new_numbers)\n"
   ]
  }
 ],
 "metadata": {
  "language_info": {
   "name": "python"
  },
  "orig_nbformat": 4
 },
 "nbformat": 4,
 "nbformat_minor": 2
}
